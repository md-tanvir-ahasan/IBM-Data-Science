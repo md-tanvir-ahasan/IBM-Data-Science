{
  "nbformat": 4,
  "nbformat_minor": 0,
  "metadata": {
    "colab": {
      "provenance": []
    },
    "kernelspec": {
      "name": "python3",
      "display_name": "Python 3"
    },
    "language_info": {
      "name": "python"
    }
  },
  "cells": [
    {
      "cell_type": "markdown",
      "source": [
        "# **Peer_Graded_Assignment**"
      ],
      "metadata": {
        "id": "-cX6eBdH8QsC"
      }
    },
    {
      "cell_type": "markdown",
      "source": [
        "**Exercise 2 - Create a markdown cell with the title of the notebook.**"
      ],
      "metadata": {
        "id": "xhuLh02N84df"
      }
    },
    {
      "cell_type": "markdown",
      "source": [
        "# **Data Science Tools**"
      ],
      "metadata": {
        "id": "Ylb_R9RK9DMy"
      }
    },
    {
      "cell_type": "markdown",
      "source": [
        "**Exercise 3 - Create a markdown cell for an introduction.**"
      ],
      "metadata": {
        "id": "TJkN8ued9Iny"
      }
    },
    {
      "cell_type": "markdown",
      "source": [
        "In this notebook, Data Science Tools and Ecosystem are summarized.\n",
        "\n",
        "**Objectives:**\n",
        "\n",
        "\n",
        "1.   List popular languages that Data Scientists use.\n",
        "2.   List commonly used libraries used by Data Scientists.\n"
      ],
      "metadata": {
        "id": "KhTknJhBJYlh"
      }
    },
    {
      "cell_type": "markdown",
      "source": [
        "**Exercise 4 - Create a markdown cell to list data science languages.**"
      ],
      "metadata": {
        "id": "T-Uaoyn_J2Oc"
      }
    },
    {
      "cell_type": "markdown",
      "source": [
        "Some of the popular languages that Data Scientists use are:\n",
        "\n",
        "Python.\n",
        "R.\n",
        "SQL.\n",
        "Java.\n",
        "Julia.\n",
        "Scala.\n",
        "C/C++.\n",
        "JavaScript."
      ],
      "metadata": {
        "id": "lQC1KyN3J9SZ"
      }
    },
    {
      "cell_type": "markdown",
      "source": [
        "**Exercise 5 - Create a markdown cell to list data science libraries.**\n"
      ],
      "metadata": {
        "id": "xJyVKzH-KIQs"
      }
    },
    {
      "cell_type": "markdown",
      "source": [
        "Some of the commonly used libraries used by Data Scientists include:\n",
        "\n",
        "TensorFlow.\n",
        "NumPy.\n",
        "SciPy.\n",
        "Pandas.\n",
        "Matplotlib.\n",
        "Keras.\n",
        "SciKit-Learn.\n",
        "PyTorch.\n",
        "Scrapy.\n",
        "BeautifulSoup.\n",
        "LightGBM.\n",
        "ELI5.\n",
        "Theano.\n",
        "NuPIC.\n",
        "Ramp.\n",
        "Pipenv.\n",
        "Bob.\n",
        "PyBrain.\n",
        "Caffe2.\n",
        "Chainer."
      ],
      "metadata": {
        "id": "CyerH2wjKMH3"
      }
    },
    {
      "cell_type": "markdown",
      "source": [
        "**Exercise 6 - Create a markdown cell with a table of Data Science tools.**"
      ],
      "metadata": {
        "id": "mXcs8VO0KOS4"
      }
    },
    {
      "cell_type": "markdown",
      "source": [
        "**Data Science Tools**\n",
        "\n",
        "SAS\n",
        "Apache Spark\n",
        "BigML"
      ],
      "metadata": {
        "id": "Z3tul1toK5yS"
      }
    },
    {
      "cell_type": "markdown",
      "source": [
        "**Exercise 7 - Create a markdown cell introducing arithmetic expression examples.**"
      ],
      "metadata": {
        "id": "jIKNqkGnNiY6"
      }
    },
    {
      "cell_type": "markdown",
      "source": [
        "### **Below are a few examples of evaluating arithmetic expressions in Python**"
      ],
      "metadata": {
        "id": "cwcVLBONO_0J"
      }
    },
    {
      "cell_type": "code",
      "source": [
        "# Arithmetic operations\n",
        "code = compile(\"5 + 3\", \"<string>\", \"eval\")\n",
        "eval(code)\n"
      ],
      "metadata": {
        "colab": {
          "base_uri": "https://localhost:8080/"
        },
        "id": "o7Eit5buPMV8",
        "outputId": "fd2b1872-588b-40be-febb-d46735970917"
      },
      "execution_count": 1,
      "outputs": [
        {
          "output_type": "execute_result",
          "data": {
            "text/plain": [
              "8"
            ]
          },
          "metadata": {},
          "execution_count": 1
        }
      ]
    },
    {
      "cell_type": "code",
      "source": [
        "code1 = compile(\"(5 + 5) * 2\", \"<string>\", \"eval\")\n",
        "eval(code1)\n"
      ],
      "metadata": {
        "colab": {
          "base_uri": "https://localhost:8080/"
        },
        "id": "lK70j_pXPSMc",
        "outputId": "adad019b-86e9-4e08-f83a-caf7f8841bd8"
      },
      "execution_count": 2,
      "outputs": [
        {
          "output_type": "execute_result",
          "data": {
            "text/plain": [
              "20"
            ]
          },
          "metadata": {},
          "execution_count": 2
        }
      ]
    },
    {
      "cell_type": "code",
      "source": [
        "import math\n",
        "# Volume of a sphere\n",
        "code2 = compile(\"4 / 3 * math.pi * math.pow(25, 3)\", \"<string>\", \"eval\")\n",
        "eval(code2)\n"
      ],
      "metadata": {
        "colab": {
          "base_uri": "https://localhost:8080/"
        },
        "id": "lvqcsPDiP8ac",
        "outputId": "cec3ce7d-0d52-4e0b-c1d8-0dab037e44ba"
      },
      "execution_count": 4,
      "outputs": [
        {
          "output_type": "execute_result",
          "data": {
            "text/plain": [
              "65449.84694978735"
            ]
          },
          "metadata": {},
          "execution_count": 4
        }
      ]
    },
    {
      "cell_type": "markdown",
      "source": [
        "**Exercise 8 - Create a code cell to multiply and add numbers.**"
      ],
      "metadata": {
        "id": "uS4Xh6pXQGZI"
      }
    },
    {
      "cell_type": "code",
      "source": [
        "(5*6)+7"
      ],
      "metadata": {
        "colab": {
          "base_uri": "https://localhost:8080/"
        },
        "id": "iIcJmW4HQNFt",
        "outputId": "8f5a8382-5c53-451d-c250-5f1e84af6bc0"
      },
      "execution_count": 5,
      "outputs": [
        {
          "output_type": "execute_result",
          "data": {
            "text/plain": [
              "37"
            ]
          },
          "metadata": {},
          "execution_count": 5
        }
      ]
    },
    {
      "cell_type": "markdown",
      "source": [
        "**Exercise 9 - Create a code cell to convert minutes to hours.**"
      ],
      "metadata": {
        "id": "Q2e9-G8WQY-G"
      }
    },
    {
      "cell_type": "code",
      "source": [
        "days = 0\n",
        "hours = 0\n",
        "mins = 0\n",
        "\n",
        "time = 200\n",
        "#days = time / 1440\n",
        "leftover_minutes = time % 1440\n",
        "hours = leftover_minutes / 60\n",
        "#mins = time - (days*1440) - (hours*60)\n",
        "print(str(days) + \" days, \" + str(hours) + \" hours, \" + str(mins) +  \" mins. \")"
      ],
      "metadata": {
        "colab": {
          "base_uri": "https://localhost:8080/"
        },
        "id": "cIdeMnfvQe_6",
        "outputId": "0711f6a3-2e81-40b5-b6a7-54c7452c57e6"
      },
      "execution_count": 6,
      "outputs": [
        {
          "output_type": "stream",
          "name": "stdout",
          "text": [
            "0 days, 3.3333333333333335 hours, 0 mins. \n"
          ]
        }
      ]
    },
    {
      "cell_type": "markdown",
      "source": [
        "**Exercise 10 - Insert a markdown cell to list Objectives.**"
      ],
      "metadata": {
        "id": "Q0a_hvSeQxLm"
      }
    },
    {
      "cell_type": "markdown",
      "source": [
        "Below the introduction cell created in Exercise 3, insert a new markdown cell to list the objectives that this notebook covered (i.e. some of the key takeaways from the course). In this new cell start with an introductory line titled: Objectives: in bold font. Then using an unordered list (bullets) indicate 3 to 5 items covered in this notebook, such as List popular languages for Data Science."
      ],
      "metadata": {
        "id": "lxS3qIzaQ2_j"
      }
    },
    {
      "cell_type": "markdown",
      "source": [
        "**Exercise 11 - Create a markdown cell to indicate the Author’s name.**"
      ],
      "metadata": {
        "id": "b530YohqQ92A"
      }
    },
    {
      "cell_type": "markdown",
      "source": [
        "# **Author:**\n",
        "\n",
        "Md Tanvir Ahasan"
      ],
      "metadata": {
        "id": "jWfxADFzRCgd"
      }
    },
    {
      "cell_type": "code",
      "source": [],
      "metadata": {
        "id": "B6oKVxZWRPJr"
      },
      "execution_count": null,
      "outputs": []
    }
  ]
}